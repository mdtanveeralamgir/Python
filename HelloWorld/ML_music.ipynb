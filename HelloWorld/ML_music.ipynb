{
 "cells": [
  {
   "cell_type": "markdown",
   "id": "78667713",
   "metadata": {},
   "source": [
    "1. Read the data"
   ]
  },
  {
   "cell_type": "code",
   "execution_count": 78,
   "id": "7e12c46d",
   "metadata": {},
   "outputs": [],
   "source": [
    "import pandas as pd\n",
    "from sklearn.tree import DecisionTreeClassifier\n",
    "import joblib \n",
    "\n",
    "music_data = pd.read_csv('music.csv')\n",
    "# music_data #Printing all data"
   ]
  },
  {
   "cell_type": "markdown",
   "id": "e6ff4b0c",
   "metadata": {},
   "source": [
    "2. Preparing data\n",
    "    - No need to clean since it's made up"
   ]
  },
  {
   "cell_type": "markdown",
   "id": "64dd5099",
   "metadata": {},
   "source": [
    "Split the table in 2. First 2 columns is input set and the 3rd is the output set."
   ]
  },
  {
   "cell_type": "code",
   "execution_count": 79,
   "id": "3999dce6",
   "metadata": {},
   "outputs": [],
   "source": [
    "#seperating input set\n",
    "X = music_data.drop(columns=['genre']) #Getting table without column 'genre'. Convension is to set it to capital 'X'\n",
    "# X "
   ]
  },
  {
   "cell_type": "code",
   "execution_count": 80,
   "id": "a5234371",
   "metadata": {},
   "outputs": [],
   "source": [
    "#Output data set\n",
    "y = music_data['genre'] #Getting only genre column\n",
    "# y"
   ]
  },
  {
   "cell_type": "markdown",
   "id": "ef74bd95",
   "metadata": {},
   "source": [
    "4. Create a model\n",
    " - using decision tree"
   ]
  },
  {
   "cell_type": "code",
   "execution_count": 81,
   "id": "b05fb73c",
   "metadata": {},
   "outputs": [],
   "source": [
    "#allocating 20% data for testing\n",
    "#returns a tuple\n",
    "\n",
    "# from sklearn.model_selection import train_test_split\n",
    "# from sklearn.metrics import accuracy_score\n",
    "# X_train, X_test, y_train, y_test =  train_test_split(X, y, test_size=0.2)\n",
    "# model = DecisionTreeClassifier()\n",
    "# model.fit(X_train, y_train)\n",
    "\n",
    "# #predicting\n",
    "# predictions = model.predict(X_test)\n",
    "# score = accuracy_score(y_test, predictions) #returns accuracy score between 0-1\n",
    "# score"
   ]
  },
  {
   "cell_type": "markdown",
   "id": "2b213c99",
   "metadata": {},
   "source": [
    " Calculating accuracy"
   ]
  },
  {
   "cell_type": "code",
   "execution_count": 82,
   "id": "dc5f9f3b",
   "metadata": {},
   "outputs": [
    {
     "data": {
      "text/plain": [
       "DecisionTreeClassifier()"
      ]
     },
     "execution_count": 82,
     "metadata": {},
     "output_type": "execute_result"
    }
   ],
   "source": [
    "model = DecisionTreeClassifier()\n",
    "model.fit(X.values, y.values)"
   ]
  },
  {
   "cell_type": "code",
   "execution_count": 83,
   "id": "67cec28b",
   "metadata": {},
   "outputs": [
    {
     "data": {
      "text/plain": [
       "['music-recommender.joblib']"
      ]
     },
     "execution_count": 83,
     "metadata": {},
     "output_type": "execute_result"
    }
   ],
   "source": [
    "#saving and loading models\n",
    "#save the trained model to save a lot of work to train the model again\n",
    "\n",
    "\n",
    "joblib.dump(model, 'music-recommender.joblib')"
   ]
  },
  {
   "cell_type": "code",
   "execution_count": 84,
   "id": "5c221be5",
   "metadata": {},
   "outputs": [],
   "source": [
    "# predictions = model.predict([[21,1]])\n",
    "# predictions"
   ]
  },
  {
   "cell_type": "markdown",
   "id": "88ce1d6c",
   "metadata": {},
   "source": [
    "After dumping the model we can then load the model"
   ]
  },
  {
   "cell_type": "code",
   "execution_count": 86,
   "id": "5ccf7494",
   "metadata": {},
   "outputs": [
    {
     "data": {
      "text/plain": [
       "array(['HipHop'], dtype=object)"
      ]
     },
     "execution_count": 86,
     "metadata": {},
     "output_type": "execute_result"
    }
   ],
   "source": [
    "model = joblib.load('music-recommender.joblib')\n",
    "predictions = model.predict([[21,1]])\n",
    "predictions"
   ]
  },
  {
   "cell_type": "markdown",
   "id": "5275f5d1",
   "metadata": {},
   "source": [
    "Visalize the model"
   ]
  },
  {
   "cell_type": "code",
   "execution_count": 87,
   "id": "a6914daa",
   "metadata": {},
   "outputs": [],
   "source": [
    "from sklearn import tree\n",
    "tree.export_graphviz(model, \n",
    "                     out_file='music-recommender.dot', \n",
    "                     feature_names=['age',  'gender'], #see the age and gender\n",
    "                     class_names=sorted(y.unique()), #display the class name\n",
    "                     label='all', #every node has a name\n",
    "                     filled=True, #each box will filled with color in binary tree\n",
    "                     rounded=True #rounded corner\n",
    "                    )"
   ]
  },
  {
   "cell_type": "code",
   "execution_count": null,
   "id": "1a610071",
   "metadata": {},
   "outputs": [],
   "source": []
  }
 ],
 "metadata": {
  "kernelspec": {
   "display_name": "Python 3 (ipykernel)",
   "language": "python",
   "name": "python3"
  },
  "language_info": {
   "codemirror_mode": {
    "name": "ipython",
    "version": 3
   },
   "file_extension": ".py",
   "mimetype": "text/x-python",
   "name": "python",
   "nbconvert_exporter": "python",
   "pygments_lexer": "ipython3",
   "version": "3.9.12"
  }
 },
 "nbformat": 4,
 "nbformat_minor": 5
}
